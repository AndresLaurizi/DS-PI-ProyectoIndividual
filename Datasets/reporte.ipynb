{
 "cells": [
  {
   "cell_type": "markdown",
   "metadata": {},
   "source": [
    "# Electronica DS\n",
    "#### Reporte de calidad de los datos jun/2022"
   ]
  },
  {
   "cell_type": "code",
   "execution_count": 41,
   "metadata": {},
   "outputs": [],
   "source": [
    "import pandas as pd\n",
    "import matplotlib.pyplot as plt\n",
    "import seaborn as sns\n",
    "import numpy as np"
   ]
  },
  {
   "cell_type": "code",
   "execution_count": 42,
   "metadata": {},
   "outputs": [],
   "source": [
    "ventas = pd.read_csv('Venta.csv')\n",
    "compras = pd.read_csv('Compra.csv')\n",
    "gastos = pd.read_csv('Gasto.csv')\n",
    "clientes = pd.read_csv('Clientes.csv', sep=';', usecols = ['ID','Provincia','Nombre_y_Apellido','Domicilio','Telefono','Edad','Localidad','X','Y', 'col10'])\n",
    "proveedores = pd.read_csv('Proveedores.csv',delimiter = ',',encoding = \"ansi\")\n",
    "sucursales = pd.read_csv('Sucursales.csv', sep=';')\n",
    "localidades = pd.read_csv('Localidades.csv')"
   ]
  },
  {
   "cell_type": "code",
   "execution_count": 43,
   "metadata": {},
   "outputs": [],
   "source": [
    "def cal_datos(data, campo):\n",
    "    Q1 = data[campo].quantile(0.25)\n",
    "    Q3 = data[campo].quantile(0.75)\n",
    "    #Se calcula el rango intercuartilico IQR.\n",
    "    IQR = Q3 -Q1\n",
    "    outliersSup = (Q3 + (1.5 * IQR)) \n",
    "    mask = data[campo]<outliersSup\n",
    "    ventaSinOut2 = data[mask]\n",
    "    sinErrores = ventaSinOut2.shape[0]\n",
    "    ventaNulos=data[campo].isnull().sum()\n",
    "    outliers = data.shape[0]-ventaNulos-sinErrores\n",
    "    #porcentajes para graficar\n",
    "    porc_ok = round((sinErrores * 100)/data.shape[0], 2)\n",
    "    porc_nu = round((ventaNulos * 100)/data.shape[0], 2)\n",
    "    porc_out = round((outliers * 100)/data.shape[0], 2)\n",
    "    #Se cargan los datos para graficar\n",
    "    datos = ['Valores Nulos','Sin Errores' ,'Outliers'] \n",
    "    porcentaje = [porc_nu,porc_ok,porc_out] \n",
    "    df = pd.DataFrame({\"Datos\": datos, \n",
    "                    \"Porcentaje\": porcentaje}) \n",
    "    #Se grafica.\n",
    "    plot = sns.barplot(x='Datos', y=\"Porcentaje\", data=df, palette = \"Blues_r\")\n",
    "    for i in plot.patches:\n",
    "                plot.annotate(i.get_height(),\n",
    "                (i.get_x() + i.get_width() / 2, i.get_height()),\n",
    "                ha = 'center', va = 'baseline', fontsize = 12,\n",
    "                color = 'black', xytext = (0,1),\n",
    "                textcoords = 'offset pixels')\n",
    "    plot.set_title(f\"Calidad De Los Datos de {campo}\", fontsize = 16)\n",
    "    plt.show()\n",
    "    # print(\"Porcentaje ok: \", porc_ok, 2, \"Porcentaje nulos: \", porc_nu, \"Porcentaje outliers \", porc_out)\n",
    "    "
   ]
  },
  {
   "cell_type": "code",
   "execution_count": 44,
   "metadata": {},
   "outputs": [],
   "source": [
    "def integridad(df):\n",
    "    for column in df.columns:\n",
    "    # if round(df[str(column)].notna().sum()/len(df)*100, 2) < 100:\n",
    "        print(f'La integridad de la colúmna {column}, en cuanto a valores faltantes es del {round(df[str(column)].notna().sum()/len(df)*100, 2)}%')"
   ]
  },
  {
   "cell_type": "code",
   "execution_count": 45,
   "metadata": {},
   "outputs": [],
   "source": [
    "def prep(df):\n",
    "    registros, columnas = df.shape\n",
    "    print(f'La tabla está formada por {registros} registros, y {columnas} columnas')"
   ]
  },
  {
   "cell_type": "code",
   "execution_count": 46,
   "metadata": {},
   "outputs": [],
   "source": [
    "def get_missings(df,plot=True,rotation=45,figsize=(10,5), * kwargs):\n",
    "    labels,values,percent = list(),list(),list()\n",
    "    if df.isna().sum().sum()>0:\n",
    "        for column in df.columns:\n",
    "            if df[column].isna().sum():\n",
    "                labels.append(column)\n",
    "                values.append(df[column].isna().sum())\n",
    "                percent.append((df[column].isna().sum() / df.shape[0]) * 100)\n",
    "        #Make a dataframe \n",
    "        missings=pd.DataFrame({'Colúmnas':labels,'Valores faltantes':values,'PorcentajePerdido':percent}).sort_values(by='PorcentajePerdido',ascending=False)\n",
    "        \n",
    "\n",
    "        if plot:\n",
    "            plt.figure(figsize=figsize)\n",
    "            plot = sns.barplot(x=missings.Colúmnas,y=round(missings.PorcentajePerdido, 2), palette = \"Blues_r\")# .set_title('Porcentaje de valores perdidos',size=22)\n",
    "            for i in plot.patches:\n",
    "                plot.annotate(i.get_height(),\n",
    "                (i.get_x() + i.get_width() / 2, i.get_height()),\n",
    "                ha = 'center', va = 'baseline', fontsize = 12,\n",
    "                color = 'black', xytext = (0,1),\n",
    "                textcoords = 'offset pixels')\n",
    "            locs, labels = plt.xticks()\n",
    "            plt.setp(labels, rotation=rotation,size=16)\n",
    "            plt.xlabel('Colúmnas',size=18)\n",
    "            plt.ylabel('Porcentaje',size=18)\n",
    "            plot.set_title('Porcentaje de valores perdidos',size=18)\n",
    "\n",
    "        return missings\n",
    "    else:\n",
    "        return False"
   ]
  },
  {
   "cell_type": "markdown",
   "metadata": {},
   "source": [
    "# **Tabla:** Ventas\n",
    "### Diccionario\n",
    "| | Columna Normalizada | Columna Original | Tipo de Dato | Descripción |\n",
    "|:-------------------:|---|---|---|---|\n",
    "| 0 | IdVenta | IdVenta | int64 | Clave única que identifica la venta |\n",
    "| 1 | Fecha | Fecha | datetime64 | Fecha de la venta realizada |\n",
    "| 2 | Fecha_Entrega | Fecha_Entrega | datetime64 | Fecha de entrega de la venta realizada |\n",
    "| 3 | IdCanal | IdCanal | int64 | Clave única que identifica el canal de venta |\n",
    "| 4 | IdCliente | IdCliente | int64 | Clave única que identifica al cliente |\n",
    "| 5 | IdSucursal | IdSucursal | int64 | Clave única que identifica a la sucursal |\n",
    "| 6 | IdEmpleado | IdEmpleado | int64 | Clave única que identifica al empleado |\n",
    "| 7 | IdProducto | IdProducto | int64 | Clave única que identifica el producto de la venta|\n",
    "| 8 | Precio | Precio | float64 | Precio total de la venta realizada |\n",
    "| 9 | Cantidad | Cantidad | float64 | Cantidad de producto de la venta realizada |\n"
   ]
  },
  {
   "cell_type": "markdown",
   "metadata": {},
   "source": [
    "# Bitácora\n",
    "##### Durante la exploración de la tabla ventas se encontró:\n"
   ]
  },
  {
   "cell_type": "code",
   "execution_count": 47,
   "metadata": {},
   "outputs": [
    {
     "name": "stdout",
     "output_type": "stream",
     "text": [
      "La tabla está formada por 46180 registros, y 10 columnas\n"
     ]
    }
   ],
   "source": [
    "prep(ventas)"
   ]
  },
  {
   "cell_type": "code",
   "execution_count": 48,
   "metadata": {},
   "outputs": [
    {
     "data": {
      "text/html": [
       "<div>\n",
       "<style scoped>\n",
       "    .dataframe tbody tr th:only-of-type {\n",
       "        vertical-align: middle;\n",
       "    }\n",
       "\n",
       "    .dataframe tbody tr th {\n",
       "        vertical-align: top;\n",
       "    }\n",
       "\n",
       "    .dataframe thead th {\n",
       "        text-align: right;\n",
       "    }\n",
       "</style>\n",
       "<table border=\"1\" class=\"dataframe\">\n",
       "  <thead>\n",
       "    <tr style=\"text-align: right;\">\n",
       "      <th></th>\n",
       "      <th>IdVenta</th>\n",
       "      <th>Fecha</th>\n",
       "      <th>Fecha_Entrega</th>\n",
       "      <th>IdCanal</th>\n",
       "      <th>IdCliente</th>\n",
       "      <th>IdSucursal</th>\n",
       "      <th>IdEmpleado</th>\n",
       "      <th>IdProducto</th>\n",
       "      <th>Precio</th>\n",
       "      <th>Cantidad</th>\n",
       "    </tr>\n",
       "  </thead>\n",
       "  <tbody>\n",
       "    <tr>\n",
       "      <th>0</th>\n",
       "      <td>1</td>\n",
       "      <td>2018-03-09</td>\n",
       "      <td>2018-03-17</td>\n",
       "      <td>3</td>\n",
       "      <td>969</td>\n",
       "      <td>13</td>\n",
       "      <td>1674</td>\n",
       "      <td>42817</td>\n",
       "      <td>813.12</td>\n",
       "      <td>2.0</td>\n",
       "    </tr>\n",
       "  </tbody>\n",
       "</table>\n",
       "</div>"
      ],
      "text/plain": [
       "   IdVenta       Fecha Fecha_Entrega  IdCanal  IdCliente  IdSucursal  \\\n",
       "0        1  2018-03-09    2018-03-17        3        969          13   \n",
       "\n",
       "   IdEmpleado  IdProducto  Precio  Cantidad  \n",
       "0        1674       42817  813.12       2.0  "
      ]
     },
     "execution_count": 48,
     "metadata": {},
     "output_type": "execute_result"
    }
   ],
   "source": [
    "ventas.head(1)"
   ]
  },
  {
   "cell_type": "code",
   "execution_count": 49,
   "metadata": {},
   "outputs": [
    {
     "name": "stdout",
     "output_type": "stream",
     "text": [
      "La integridad de la colúmna IdVenta, en cuanto a valores faltantes es del 100.0%\n",
      "La integridad de la colúmna Fecha, en cuanto a valores faltantes es del 100.0%\n",
      "La integridad de la colúmna Fecha_Entrega, en cuanto a valores faltantes es del 100.0%\n",
      "La integridad de la colúmna IdCanal, en cuanto a valores faltantes es del 100.0%\n",
      "La integridad de la colúmna IdCliente, en cuanto a valores faltantes es del 100.0%\n",
      "La integridad de la colúmna IdSucursal, en cuanto a valores faltantes es del 100.0%\n",
      "La integridad de la colúmna IdEmpleado, en cuanto a valores faltantes es del 100.0%\n",
      "La integridad de la colúmna IdProducto, en cuanto a valores faltantes es del 100.0%\n",
      "La integridad de la colúmna Precio, en cuanto a valores faltantes es del 98.01%\n",
      "La integridad de la colúmna Cantidad, en cuanto a valores faltantes es del 98.09%\n"
     ]
    }
   ],
   "source": [
    "integridad(ventas)"
   ]
  },
  {
   "cell_type": "code",
   "execution_count": 50,
   "metadata": {},
   "outputs": [
    {
     "data": {
      "text/html": [
       "<div>\n",
       "<style scoped>\n",
       "    .dataframe tbody tr th:only-of-type {\n",
       "        vertical-align: middle;\n",
       "    }\n",
       "\n",
       "    .dataframe tbody tr th {\n",
       "        vertical-align: top;\n",
       "    }\n",
       "\n",
       "    .dataframe thead th {\n",
       "        text-align: right;\n",
       "    }\n",
       "</style>\n",
       "<table border=\"1\" class=\"dataframe\">\n",
       "  <thead>\n",
       "    <tr style=\"text-align: right;\">\n",
       "      <th></th>\n",
       "      <th>Colúmnas</th>\n",
       "      <th>Valores faltantes</th>\n",
       "      <th>PorcentajePerdido</th>\n",
       "    </tr>\n",
       "  </thead>\n",
       "  <tbody>\n",
       "    <tr>\n",
       "      <th>0</th>\n",
       "      <td>Precio</td>\n",
       "      <td>920</td>\n",
       "      <td>1.992204</td>\n",
       "    </tr>\n",
       "    <tr>\n",
       "      <th>1</th>\n",
       "      <td>Cantidad</td>\n",
       "      <td>884</td>\n",
       "      <td>1.914249</td>\n",
       "    </tr>\n",
       "  </tbody>\n",
       "</table>\n",
       "</div>"
      ],
      "text/plain": [
       "   Colúmnas  Valores faltantes  PorcentajePerdido\n",
       "0    Precio                920           1.992204\n",
       "1  Cantidad                884           1.914249"
      ]
     },
     "execution_count": 50,
     "metadata": {},
     "output_type": "execute_result"
    },
    {
     "data": {
      "image/png": "[encoded data removed]",
      "text/plain": [
       "<Figure size 720x360 with 1 Axes>"
      ]
     },
     "metadata": {
      "needs_background": "light"
     },
     "output_type": "display_data"
    }
   ],
   "source": [
    "get_missings(ventas)"
   ]
  },
  {
   "cell_type": "code",
   "execution_count": 51,
   "metadata": {},
   "outputs": [
    {
     "data": {
      "image/png": "[encoded data removed]",
      "text/plain": [
       "<Figure size 432x288 with 1 Axes>"
      ]
     },
     "metadata": {
      "needs_background": "light"
     },
     "output_type": "display_data"
    }
   ],
   "source": [
    "cal_datos(ventas, 'Precio')"
   ]
  },
  {
   "cell_type": "code",
   "execution_count": 52,
   "metadata": {},
   "outputs": [
    {
     "data": {
      "image/png": "[encoded data removed]",
      "text/plain": [
       "<Figure size 432x288 with 1 Axes>"
      ]
     },
     "metadata": {
      "needs_background": "light"
     },
     "output_type": "display_data"
    }
   ],
   "source": [
    "cal_datos(ventas, \"Cantidad\")"
   ]
  },
  {
   "cell_type": "markdown",
   "metadata": {},
   "source": [
    "# **Tabla:** Cliente\n",
    "### Diccionario\n",
    "| | Columna Normalizada | Columna Original | Tipo de Dato | Descripción |\n",
    "|:-------------------:|---|---|---|---|\n",
    "| 0 | IdCliente | ID | int64 | Clave única que identifica al cliente |\n",
    "| 1 | Nombre_y_Apellido | Nombre_y_Apellido | object | Nombre y apellido del cliente |\n",
    "| 2 | Edad | Edad | int64 | Edad del cliente |\n",
    "| 3 | Telefono | Telefono | object | Teléfono del cliente |\n",
    "| 4 | Domicilio | Domicilio | object | Domicilio del cliente |\n",
    "| 5 | Provincia | Provincia | object | Provincia del cliente |\n",
    "| 6 | Localidad | Localidad | object | Localidad del cliente |\n",
    "| 7 | Latitud | X | float64 | Latitud del domicilio del cliente |\n",
    "| 8 | Longitud | Y | float64 | Longitud del domicilio del cliente |"
   ]
  },
  {
   "cell_type": "code",
   "execution_count": 53,
   "metadata": {},
   "outputs": [
    {
     "name": "stdout",
     "output_type": "stream",
     "text": [
      "La tabla está formada por 2384 registros, y 10 columnas\n"
     ]
    }
   ],
   "source": [
    "prep(clientes)"
   ]
  },
  {
   "cell_type": "code",
   "execution_count": 54,
   "metadata": {},
   "outputs": [
    {
     "data": {
      "text/html": [
       "<div>\n",
       "<style scoped>\n",
       "    .dataframe tbody tr th:only-of-type {\n",
       "        vertical-align: middle;\n",
       "    }\n",
       "\n",
       "    .dataframe tbody tr th {\n",
       "        vertical-align: top;\n",
       "    }\n",
       "\n",
       "    .dataframe thead th {\n",
       "        text-align: right;\n",
       "    }\n",
       "</style>\n",
       "<table border=\"1\" class=\"dataframe\">\n",
       "  <thead>\n",
       "    <tr style=\"text-align: right;\">\n",
       "      <th></th>\n",
       "      <th>ID</th>\n",
       "      <th>Provincia</th>\n",
       "      <th>Nombre_y_Apellido</th>\n",
       "      <th>Domicilio</th>\n",
       "      <th>Telefono</th>\n",
       "      <th>Edad</th>\n",
       "      <th>Localidad</th>\n",
       "      <th>X</th>\n",
       "      <th>Y</th>\n",
       "      <th>col10</th>\n",
       "    </tr>\n",
       "  </thead>\n",
       "  <tbody>\n",
       "    <tr>\n",
       "      <th>0</th>\n",
       "      <td>1</td>\n",
       "      <td>Buenos Aires</td>\n",
       "      <td>HEBER JONI SANTANA</td>\n",
       "      <td>LAS HERAS Y BAT. 24 DE FEBRERO 4150  RINCON DE...</td>\n",
       "      <td>42-5161</td>\n",
       "      <td>58</td>\n",
       "      <td>LOMA VERDE</td>\n",
       "      <td>-58,81850307</td>\n",
       "      <td>-34,30997088</td>\n",
       "      <td>NaN</td>\n",
       "    </tr>\n",
       "  </tbody>\n",
       "</table>\n",
       "</div>"
      ],
      "text/plain": [
       "   ID     Provincia   Nombre_y_Apellido  \\\n",
       "0   1  Buenos Aires  HEBER JONI SANTANA   \n",
       "\n",
       "                                           Domicilio Telefono  Edad  \\\n",
       "0  LAS HERAS Y BAT. 24 DE FEBRERO 4150  RINCON DE...  42-5161    58   \n",
       "\n",
       "    Localidad             X             Y  col10  \n",
       "0  LOMA VERDE  -58,81850307  -34,30997088    NaN  "
      ]
     },
     "execution_count": 54,
     "metadata": {},
     "output_type": "execute_result"
    }
   ],
   "source": [
    "clientes.head(1)"
   ]
  },
  {
   "cell_type": "code",
   "execution_count": 55,
   "metadata": {},
   "outputs": [
    {
     "name": "stdout",
     "output_type": "stream",
     "text": [
      "La integridad de la colúmna ID, en cuanto a valores faltantes es del 100.0%\n",
      "La integridad de la colúmna Provincia, en cuanto a valores faltantes es del 98.95%\n",
      "La integridad de la colúmna Nombre_y_Apellido, en cuanto a valores faltantes es del 99.2%\n",
      "La integridad de la colúmna Domicilio, en cuanto a valores faltantes es del 98.2%\n",
      "La integridad de la colúmna Telefono, en cuanto a valores faltantes es del 98.7%\n",
      "La integridad de la colúmna Edad, en cuanto a valores faltantes es del 100.0%\n",
      "La integridad de la colúmna Localidad, en cuanto a valores faltantes es del 98.95%\n",
      "La integridad de la colúmna X, en cuanto a valores faltantes es del 97.73%\n",
      "La integridad de la colúmna Y, en cuanto a valores faltantes es del 97.82%\n",
      "La integridad de la colúmna col10, en cuanto a valores faltantes es del 0.0%\n"
     ]
    }
   ],
   "source": [
    "integridad(clientes)"
   ]
  },
  {
   "cell_type": "code",
   "execution_count": 56,
   "metadata": {},
   "outputs": [
    {
     "data": {
      "text/html": [
       "<div>\n",
       "<style scoped>\n",
       "    .dataframe tbody tr th:only-of-type {\n",
       "        vertical-align: middle;\n",
       "    }\n",
       "\n",
       "    .dataframe tbody tr th {\n",
       "        vertical-align: top;\n",
       "    }\n",
       "\n",
       "    .dataframe thead th {\n",
       "        text-align: right;\n",
       "    }\n",
       "</style>\n",
       "<table border=\"1\" class=\"dataframe\">\n",
       "  <thead>\n",
       "    <tr style=\"text-align: right;\">\n",
       "      <th></th>\n",
       "      <th>Colúmnas</th>\n",
       "      <th>Valores faltantes</th>\n",
       "      <th>PorcentajePerdido</th>\n",
       "    </tr>\n",
       "  </thead>\n",
       "  <tbody>\n",
       "    <tr>\n",
       "      <th>5</th>\n",
       "      <td>X</td>\n",
       "      <td>54</td>\n",
       "      <td>2.265101</td>\n",
       "    </tr>\n",
       "    <tr>\n",
       "      <th>6</th>\n",
       "      <td>Y</td>\n",
       "      <td>52</td>\n",
       "      <td>2.181208</td>\n",
       "    </tr>\n",
       "    <tr>\n",
       "      <th>2</th>\n",
       "      <td>Domicilio</td>\n",
       "      <td>43</td>\n",
       "      <td>1.803691</td>\n",
       "    </tr>\n",
       "    <tr>\n",
       "      <th>3</th>\n",
       "      <td>Telefono</td>\n",
       "      <td>31</td>\n",
       "      <td>1.300336</td>\n",
       "    </tr>\n",
       "    <tr>\n",
       "      <th>0</th>\n",
       "      <td>Provincia</td>\n",
       "      <td>25</td>\n",
       "      <td>1.048658</td>\n",
       "    </tr>\n",
       "    <tr>\n",
       "      <th>4</th>\n",
       "      <td>Localidad</td>\n",
       "      <td>25</td>\n",
       "      <td>1.048658</td>\n",
       "    </tr>\n",
       "    <tr>\n",
       "      <th>1</th>\n",
       "      <td>Nombre_y_Apellido</td>\n",
       "      <td>19</td>\n",
       "      <td>0.796980</td>\n",
       "    </tr>\n",
       "  </tbody>\n",
       "</table>\n",
       "</div>"
      ],
      "text/plain": [
       "            Colúmnas  Valores faltantes  PorcentajePerdido\n",
       "5                  X                 54           2.265101\n",
       "6                  Y                 52           2.181208\n",
       "2          Domicilio                 43           1.803691\n",
       "3           Telefono                 31           1.300336\n",
       "0          Provincia                 25           1.048658\n",
       "4          Localidad                 25           1.048658\n",
       "1  Nombre_y_Apellido                 19           0.796980"
      ]
     },
     "execution_count": 56,
     "metadata": {},
     "output_type": "execute_result"
    },
    {
     "data": {
      "image/png": "[encoded data removed]",
      "text/plain": [
       "<Figure size 720x360 with 1 Axes>"
      ]
     },
     "metadata": {
      "needs_background": "light"
     },
     "output_type": "display_data"
    }
   ],
   "source": [
    "get_missings(clientes.drop(columns = 'col10'))"
   ]
  },
  {
   "cell_type": "markdown",
   "metadata": {},
   "source": [
    "## **Tabla:** Compra\n",
    "| | Columna Normalizada | Columna Original | Tipo de Dato | Descripción |\n",
    "|:-------------------:|---|---|---|---|\n",
    "| 0 | IdCompra | IdCompra | int64 | Clave única que identifica una compra |\n",
    "| 1 | Fecha | Fecha | datetime64 | Fecha registrada de compra |\n",
    "| 2 | Fecha_Año | Fecha_Año | int64 | Año registrado de compra |\n",
    "| 3 | Fecha_Mes | Fecha_Mes | int64 | Mes registrado de compra |\n",
    "| 4 | Fecha_Periodo | Fecha_Periodo | int64 | Periodo registrado de compra  |\n",
    "| 5 | IdProducto | IdProducto | int64 | Clave única que identifica al producto adquirido |\n",
    "| 6 | Cantidad | Cantidad | int64 | Cantidad de producto adquirido en la compra |\n",
    "| 7 | Precio | Precio | float64 | Precio pagado por la compra |\n",
    "| 8 | IdProveedor | IdProveedor | int64 | Clave única que identifica al proveedor |"
   ]
  },
  {
   "cell_type": "code",
   "execution_count": 57,
   "metadata": {},
   "outputs": [
    {
     "name": "stdout",
     "output_type": "stream",
     "text": [
      "La tabla está formada por 11539 registros, y 9 columnas\n"
     ]
    }
   ],
   "source": [
    "prep(compras)"
   ]
  },
  {
   "cell_type": "code",
   "execution_count": 58,
   "metadata": {},
   "outputs": [
    {
     "data": {
      "text/html": [
       "<div>\n",
       "<style scoped>\n",
       "    .dataframe tbody tr th:only-of-type {\n",
       "        vertical-align: middle;\n",
       "    }\n",
       "\n",
       "    .dataframe tbody tr th {\n",
       "        vertical-align: top;\n",
       "    }\n",
       "\n",
       "    .dataframe thead th {\n",
       "        text-align: right;\n",
       "    }\n",
       "</style>\n",
       "<table border=\"1\" class=\"dataframe\">\n",
       "  <thead>\n",
       "    <tr style=\"text-align: right;\">\n",
       "      <th></th>\n",
       "      <th>IdCompra</th>\n",
       "      <th>Fecha</th>\n",
       "      <th>Fecha_Año</th>\n",
       "      <th>Fecha_Mes</th>\n",
       "      <th>Fecha_Periodo</th>\n",
       "      <th>IdProducto</th>\n",
       "      <th>Cantidad</th>\n",
       "      <th>Precio</th>\n",
       "      <th>IdProveedor</th>\n",
       "    </tr>\n",
       "  </thead>\n",
       "  <tbody>\n",
       "    <tr>\n",
       "      <th>0</th>\n",
       "      <td>1</td>\n",
       "      <td>1/30/2015</td>\n",
       "      <td>2015</td>\n",
       "      <td>1</td>\n",
       "      <td>201501</td>\n",
       "      <td>42832</td>\n",
       "      <td>13</td>\n",
       "      <td>560.51</td>\n",
       "      <td>12</td>\n",
       "    </tr>\n",
       "  </tbody>\n",
       "</table>\n",
       "</div>"
      ],
      "text/plain": [
       "   IdCompra      Fecha  Fecha_Año  Fecha_Mes  Fecha_Periodo  IdProducto  \\\n",
       "0         1  1/30/2015       2015          1         201501       42832   \n",
       "\n",
       "   Cantidad  Precio  IdProveedor  \n",
       "0        13  560.51           12  "
      ]
     },
     "execution_count": 58,
     "metadata": {},
     "output_type": "execute_result"
    }
   ],
   "source": [
    "compras.head(1)"
   ]
  },
  {
   "cell_type": "code",
   "execution_count": 59,
   "metadata": {},
   "outputs": [
    {
     "name": "stdout",
     "output_type": "stream",
     "text": [
      "La integridad de la colúmna IdCompra, en cuanto a valores faltantes es del 100.0%\n",
      "La integridad de la colúmna Fecha, en cuanto a valores faltantes es del 100.0%\n",
      "La integridad de la colúmna Fecha_Año, en cuanto a valores faltantes es del 100.0%\n",
      "La integridad de la colúmna Fecha_Mes, en cuanto a valores faltantes es del 100.0%\n",
      "La integridad de la colúmna Fecha_Periodo, en cuanto a valores faltantes es del 100.0%\n",
      "La integridad de la colúmna IdProducto, en cuanto a valores faltantes es del 100.0%\n",
      "La integridad de la colúmna Cantidad, en cuanto a valores faltantes es del 100.0%\n",
      "La integridad de la colúmna Precio, en cuanto a valores faltantes es del 96.82%\n",
      "La integridad de la colúmna IdProveedor, en cuanto a valores faltantes es del 100.0%\n"
     ]
    }
   ],
   "source": [
    "integridad(compras)"
   ]
  },
  {
   "cell_type": "code",
   "execution_count": 60,
   "metadata": {},
   "outputs": [
    {
     "data": {
      "image/png": "[encoded data removed]",
      "text/plain": [
       "<Figure size 432x288 with 1 Axes>"
      ]
     },
     "metadata": {
      "needs_background": "light"
     },
     "output_type": "display_data"
    }
   ],
   "source": [
    "cal_datos(compras, 'Precio')"
   ]
  },
  {
   "cell_type": "code",
   "execution_count": 61,
   "metadata": {},
   "outputs": [
    {
     "data": {
      "image/png": "[encoded data removed]",
      "text/plain": [
       "<Figure size 432x288 with 1 Axes>"
      ]
     },
     "metadata": {
      "needs_background": "light"
     },
     "output_type": "display_data"
    }
   ],
   "source": [
    "cal_datos(compras, 'Cantidad')"
   ]
  },
  {
   "cell_type": "markdown",
   "metadata": {},
   "source": [
    "## **Tabla:** Gasto\n",
    "| | Columna Normalizada | Columna Original | Tipo de Dato | Descripción |\n",
    "|:-------------------:|---|---|---|---|\n",
    "| 0 | IdGasto | IdGasto | int64 | Clave única que identifica el gasto |\n",
    "| 1 | IdSucursal | IdSucursal | int64 | Clave única que identifica la sucursal |\n",
    "| 2 | IdTipoGasto | IdTipoGasto | int64 | Clave única que identifica el tipo de gasto |\n",
    "| 3 | Fecha | Fecha | datetime64 | Fecha registrada del gasto |\n",
    "| 4 | Monto | Monto | float64 | Monto total del gasto |"
   ]
  },
  {
   "cell_type": "code",
   "execution_count": 62,
   "metadata": {},
   "outputs": [
    {
     "name": "stdout",
     "output_type": "stream",
     "text": [
      "La tabla está formada por 8640 registros, y 5 columnas\n"
     ]
    }
   ],
   "source": [
    "prep(gastos)"
   ]
  },
  {
   "cell_type": "code",
   "execution_count": 63,
   "metadata": {},
   "outputs": [
    {
     "data": {
      "text/html": [
       "<div>\n",
       "<style scoped>\n",
       "    .dataframe tbody tr th:only-of-type {\n",
       "        vertical-align: middle;\n",
       "    }\n",
       "\n",
       "    .dataframe tbody tr th {\n",
       "        vertical-align: top;\n",
       "    }\n",
       "\n",
       "    .dataframe thead th {\n",
       "        text-align: right;\n",
       "    }\n",
       "</style>\n",
       "<table border=\"1\" class=\"dataframe\">\n",
       "  <thead>\n",
       "    <tr style=\"text-align: right;\">\n",
       "      <th></th>\n",
       "      <th>IdGasto</th>\n",
       "      <th>IdSucursal</th>\n",
       "      <th>IdTipoGasto</th>\n",
       "      <th>Fecha</th>\n",
       "      <th>Monto</th>\n",
       "    </tr>\n",
       "  </thead>\n",
       "  <tbody>\n",
       "    <tr>\n",
       "      <th>0</th>\n",
       "      <td>1</td>\n",
       "      <td>18</td>\n",
       "      <td>1</td>\n",
       "      <td>2015-01-01</td>\n",
       "      <td>1164.9</td>\n",
       "    </tr>\n",
       "  </tbody>\n",
       "</table>\n",
       "</div>"
      ],
      "text/plain": [
       "   IdGasto  IdSucursal  IdTipoGasto       Fecha   Monto\n",
       "0        1          18            1  2015-01-01  1164.9"
      ]
     },
     "execution_count": 63,
     "metadata": {},
     "output_type": "execute_result"
    }
   ],
   "source": [
    "gastos.head(1)"
   ]
  },
  {
   "cell_type": "code",
   "execution_count": 64,
   "metadata": {},
   "outputs": [
    {
     "name": "stdout",
     "output_type": "stream",
     "text": [
      "La integridad de la colúmna IdGasto, en cuanto a valores faltantes es del 100.0%\n",
      "La integridad de la colúmna IdSucursal, en cuanto a valores faltantes es del 100.0%\n",
      "La integridad de la colúmna IdTipoGasto, en cuanto a valores faltantes es del 100.0%\n",
      "La integridad de la colúmna Fecha, en cuanto a valores faltantes es del 100.0%\n",
      "La integridad de la colúmna Monto, en cuanto a valores faltantes es del 100.0%\n"
     ]
    }
   ],
   "source": [
    "integridad(gastos)"
   ]
  },
  {
   "cell_type": "markdown",
   "metadata": {},
   "source": [
    "## **Tabla:** Localidad\n",
    "| | Columna Normalizada | Columna Original | Tipo de Dato | Descripción |\n",
    "|:-------------------:|---|---|---|---|\n",
    "| 0 | IdLocalidad | id | int64 | Clave única que identifica la localidad |\n",
    "| 1 | Localidad | nombre | object | Nombre de la localidad |\n",
    "| 2 | IdMunicipio | municipio_id | int64 | Clave única que identifica al municipio |\n",
    "| 3 | Municipio | municipio_nombre | object | Nombre del municipio |\n",
    "| 4 | IdDepartamento | departamento_id | int64 | Clave única que identifica al departamento |\n",
    "| 5 | Departamento | departamento_nombre | object | Nombre del departamento |\n",
    "| 6 | IdProvincia | provincia_id | int64 | Clave única que identifica la provincia |\n",
    "| 7 | Provincia | provincia_nombre | object | Nombre de la provincia |\n",
    "| 8 | Fuente | fuente | object | Fuente de información de datos censales |\n",
    "| 9 | IdLocalidadCensal | localidad_censal_id | int64 | Clave única que identifica la localidad censal  |\n",
    "| 10 | LocalidadCensal | localidad_censal_nombre | object | Nombre de la localidad censal |\n",
    "| 11 | Categoria | categoria | object | Categoria de la localidad censal |\n",
    "| 12 | Latitud | centroide_lat | float64 | Latitud de la localidad |\n",
    "| 13 | Longitud | centroide_lon | float64 | Longitud de la localidad |"
   ]
  },
  {
   "cell_type": "code",
   "execution_count": 65,
   "metadata": {},
   "outputs": [
    {
     "name": "stdout",
     "output_type": "stream",
     "text": [
      "La tabla está formada por 4142 registros, y 14 columnas\n"
     ]
    }
   ],
   "source": [
    "prep(localidades)"
   ]
  },
  {
   "cell_type": "code",
   "execution_count": 66,
   "metadata": {},
   "outputs": [
    {
     "data": {
      "text/html": [
       "<div>\n",
       "<style scoped>\n",
       "    .dataframe tbody tr th:only-of-type {\n",
       "        vertical-align: middle;\n",
       "    }\n",
       "\n",
       "    .dataframe tbody tr th {\n",
       "        vertical-align: top;\n",
       "    }\n",
       "\n",
       "    .dataframe thead th {\n",
       "        text-align: right;\n",
       "    }\n",
       "</style>\n",
       "<table border=\"1\" class=\"dataframe\">\n",
       "  <thead>\n",
       "    <tr style=\"text-align: right;\">\n",
       "      <th></th>\n",
       "      <th>categoria</th>\n",
       "      <th>centroide_lat</th>\n",
       "      <th>centroide_lon</th>\n",
       "      <th>departamento_id</th>\n",
       "      <th>departamento_nombre</th>\n",
       "      <th>fuente</th>\n",
       "      <th>id</th>\n",
       "      <th>localidad_censal_id</th>\n",
       "      <th>localidad_censal_nombre</th>\n",
       "      <th>municipio_id</th>\n",
       "      <th>municipio_nombre</th>\n",
       "      <th>nombre</th>\n",
       "      <th>provincia_id</th>\n",
       "      <th>provincia_nombre</th>\n",
       "    </tr>\n",
       "  </thead>\n",
       "  <tbody>\n",
       "    <tr>\n",
       "      <th>0</th>\n",
       "      <td>Localidad simple</td>\n",
       "      <td>-35.033073</td>\n",
       "      <td>-60.28062</td>\n",
       "      <td>6021.0</td>\n",
       "      <td>Alberti</td>\n",
       "      <td>INDEC</td>\n",
       "      <td>6021010000</td>\n",
       "      <td>6021010</td>\n",
       "      <td>Alberti</td>\n",
       "      <td>60021.0</td>\n",
       "      <td>Alberti</td>\n",
       "      <td>ALBERTI</td>\n",
       "      <td>6</td>\n",
       "      <td>Buenos Aires</td>\n",
       "    </tr>\n",
       "  </tbody>\n",
       "</table>\n",
       "</div>"
      ],
      "text/plain": [
       "          categoria  centroide_lat  centroide_lon  departamento_id  \\\n",
       "0  Localidad simple     -35.033073      -60.28062           6021.0   \n",
       "\n",
       "  departamento_nombre fuente          id  localidad_censal_id  \\\n",
       "0             Alberti  INDEC  6021010000              6021010   \n",
       "\n",
       "  localidad_censal_nombre  municipio_id municipio_nombre   nombre  \\\n",
       "0                 Alberti       60021.0          Alberti  ALBERTI   \n",
       "\n",
       "   provincia_id provincia_nombre  \n",
       "0             6     Buenos Aires  "
      ]
     },
     "execution_count": 66,
     "metadata": {},
     "output_type": "execute_result"
    }
   ],
   "source": [
    "localidades.head(1)"
   ]
  },
  {
   "cell_type": "code",
   "execution_count": 67,
   "metadata": {},
   "outputs": [
    {
     "name": "stdout",
     "output_type": "stream",
     "text": [
      "La integridad de la colúmna categoria, en cuanto a valores faltantes es del 100.0%\n",
      "La integridad de la colúmna centroide_lat, en cuanto a valores faltantes es del 100.0%\n",
      "La integridad de la colúmna centroide_lon, en cuanto a valores faltantes es del 100.0%\n",
      "La integridad de la colúmna departamento_id, en cuanto a valores faltantes es del 99.98%\n",
      "La integridad de la colúmna departamento_nombre, en cuanto a valores faltantes es del 99.98%\n",
      "La integridad de la colúmna fuente, en cuanto a valores faltantes es del 100.0%\n",
      "La integridad de la colúmna id, en cuanto a valores faltantes es del 100.0%\n",
      "La integridad de la colúmna localidad_censal_id, en cuanto a valores faltantes es del 100.0%\n",
      "La integridad de la colúmna localidad_censal_nombre, en cuanto a valores faltantes es del 100.0%\n",
      "La integridad de la colúmna municipio_id, en cuanto a valores faltantes es del 86.89%\n",
      "La integridad de la colúmna municipio_nombre, en cuanto a valores faltantes es del 88.07%\n",
      "La integridad de la colúmna nombre, en cuanto a valores faltantes es del 100.0%\n",
      "La integridad de la colúmna provincia_id, en cuanto a valores faltantes es del 100.0%\n",
      "La integridad de la colúmna provincia_nombre, en cuanto a valores faltantes es del 100.0%\n"
     ]
    }
   ],
   "source": [
    "integridad(localidades)"
   ]
  },
  {
   "cell_type": "code",
   "execution_count": 68,
   "metadata": {},
   "outputs": [
    {
     "data": {
      "text/html": [
       "<div>\n",
       "<style scoped>\n",
       "    .dataframe tbody tr th:only-of-type {\n",
       "        vertical-align: middle;\n",
       "    }\n",
       "\n",
       "    .dataframe tbody tr th {\n",
       "        vertical-align: top;\n",
       "    }\n",
       "\n",
       "    .dataframe thead th {\n",
       "        text-align: right;\n",
       "    }\n",
       "</style>\n",
       "<table border=\"1\" class=\"dataframe\">\n",
       "  <thead>\n",
       "    <tr style=\"text-align: right;\">\n",
       "      <th></th>\n",
       "      <th>Colúmnas</th>\n",
       "      <th>Valores faltantes</th>\n",
       "      <th>PorcentajePerdido</th>\n",
       "    </tr>\n",
       "  </thead>\n",
       "  <tbody>\n",
       "    <tr>\n",
       "      <th>2</th>\n",
       "      <td>municipio_id</td>\n",
       "      <td>543</td>\n",
       "      <td>13.109609</td>\n",
       "    </tr>\n",
       "    <tr>\n",
       "      <th>3</th>\n",
       "      <td>municipio_nombre</td>\n",
       "      <td>494</td>\n",
       "      <td>11.926606</td>\n",
       "    </tr>\n",
       "    <tr>\n",
       "      <th>0</th>\n",
       "      <td>departamento_id</td>\n",
       "      <td>1</td>\n",
       "      <td>0.024143</td>\n",
       "    </tr>\n",
       "    <tr>\n",
       "      <th>1</th>\n",
       "      <td>departamento_nombre</td>\n",
       "      <td>1</td>\n",
       "      <td>0.024143</td>\n",
       "    </tr>\n",
       "  </tbody>\n",
       "</table>\n",
       "</div>"
      ],
      "text/plain": [
       "              Colúmnas  Valores faltantes  PorcentajePerdido\n",
       "2         municipio_id                543          13.109609\n",
       "3     municipio_nombre                494          11.926606\n",
       "0      departamento_id                  1           0.024143\n",
       "1  departamento_nombre                  1           0.024143"
      ]
     },
     "execution_count": 68,
     "metadata": {},
     "output_type": "execute_result"
    },
    {
     "data": {
      "image/png": "[encoded data removed]",
      "text/plain": [
       "<Figure size 720x360 with 1 Axes>"
      ]
     },
     "metadata": {
      "needs_background": "light"
     },
     "output_type": "display_data"
    }
   ],
   "source": [
    "get_missings(localidades)"
   ]
  },
  {
   "cell_type": "markdown",
   "metadata": {},
   "source": [
    "## **Tabla:** Proveedor\n",
    "| | Columna Normalizada | Columna Original | Tipo de Dato | Descripción |\n",
    "|:-------------------:|---|---|---|---|\n",
    "| 0 | IdProveedor | IDProveedor | int64 | Clave única que identifica al proveedor |\n",
    "| 1 | Proveedor | Nombre | object | Nombre del proveedor |\n",
    "| 2 | Domicilio | Address | object | Domicilio del proveedor |\n",
    "| 3 | Ciudad | City | object | Ciudad del proveedor |\n",
    "| 4 | Provincia | State | object | Provincia del proveedor |\n",
    "| 5 | Pais | Country | object | Pais del proveedor |\n",
    "| 6 | Departamento | departamen | object | Departamento del proveedor |"
   ]
  },
  {
   "cell_type": "code",
   "execution_count": 69,
   "metadata": {},
   "outputs": [
    {
     "name": "stdout",
     "output_type": "stream",
     "text": [
      "La tabla está formada por 14 registros, y 7 columnas\n"
     ]
    }
   ],
   "source": [
    "prep(proveedores)"
   ]
  },
  {
   "cell_type": "code",
   "execution_count": 70,
   "metadata": {},
   "outputs": [
    {
     "data": {
      "text/html": [
       "<div>\n",
       "<style scoped>\n",
       "    .dataframe tbody tr th:only-of-type {\n",
       "        vertical-align: middle;\n",
       "    }\n",
       "\n",
       "    .dataframe tbody tr th {\n",
       "        vertical-align: top;\n",
       "    }\n",
       "\n",
       "    .dataframe thead th {\n",
       "        text-align: right;\n",
       "    }\n",
       "</style>\n",
       "<table border=\"1\" class=\"dataframe\">\n",
       "  <thead>\n",
       "    <tr style=\"text-align: right;\">\n",
       "      <th></th>\n",
       "      <th>IDProveedor</th>\n",
       "      <th>Nombre</th>\n",
       "      <th>Address</th>\n",
       "      <th>City</th>\n",
       "      <th>State</th>\n",
       "      <th>Country</th>\n",
       "      <th>departamen</th>\n",
       "    </tr>\n",
       "  </thead>\n",
       "  <tbody>\n",
       "    <tr>\n",
       "      <th>0</th>\n",
       "      <td>1</td>\n",
       "      <td>NaN</td>\n",
       "      <td>BEREGUESTEIN 36</td>\n",
       "      <td>AVELLANEDA</td>\n",
       "      <td>BUENOS AIRES</td>\n",
       "      <td>ARGENTINA</td>\n",
       "      <td>AVELLANEDA</td>\n",
       "    </tr>\n",
       "  </tbody>\n",
       "</table>\n",
       "</div>"
      ],
      "text/plain": [
       "   IDProveedor Nombre          Address        City         State    Country  \\\n",
       "0            1    NaN  BEREGUESTEIN 36  AVELLANEDA  BUENOS AIRES  ARGENTINA   \n",
       "\n",
       "   departamen  \n",
       "0  AVELLANEDA  "
      ]
     },
     "execution_count": 70,
     "metadata": {},
     "output_type": "execute_result"
    }
   ],
   "source": [
    "proveedores.head(1)"
   ]
  },
  {
   "cell_type": "code",
   "execution_count": 71,
   "metadata": {},
   "outputs": [
    {
     "name": "stdout",
     "output_type": "stream",
     "text": [
      "La integridad de la colúmna IDProveedor, en cuanto a valores faltantes es del 100.0%\n",
      "La integridad de la colúmna Nombre, en cuanto a valores faltantes es del 85.71%\n",
      "La integridad de la colúmna Address, en cuanto a valores faltantes es del 100.0%\n",
      "La integridad de la colúmna City, en cuanto a valores faltantes es del 100.0%\n",
      "La integridad de la colúmna State, en cuanto a valores faltantes es del 100.0%\n",
      "La integridad de la colúmna Country, en cuanto a valores faltantes es del 100.0%\n",
      "La integridad de la colúmna departamen, en cuanto a valores faltantes es del 100.0%\n"
     ]
    }
   ],
   "source": [
    "integridad(proveedores)"
   ]
  },
  {
   "cell_type": "code",
   "execution_count": 72,
   "metadata": {},
   "outputs": [
    {
     "data": {
      "text/html": [
       "<div>\n",
       "<style scoped>\n",
       "    .dataframe tbody tr th:only-of-type {\n",
       "        vertical-align: middle;\n",
       "    }\n",
       "\n",
       "    .dataframe tbody tr th {\n",
       "        vertical-align: top;\n",
       "    }\n",
       "\n",
       "    .dataframe thead th {\n",
       "        text-align: right;\n",
       "    }\n",
       "</style>\n",
       "<table border=\"1\" class=\"dataframe\">\n",
       "  <thead>\n",
       "    <tr style=\"text-align: right;\">\n",
       "      <th></th>\n",
       "      <th>Colúmnas</th>\n",
       "      <th>Valores faltantes</th>\n",
       "      <th>PorcentajePerdido</th>\n",
       "    </tr>\n",
       "  </thead>\n",
       "  <tbody>\n",
       "    <tr>\n",
       "      <th>0</th>\n",
       "      <td>Nombre</td>\n",
       "      <td>2</td>\n",
       "      <td>14.285714</td>\n",
       "    </tr>\n",
       "  </tbody>\n",
       "</table>\n",
       "</div>"
      ],
      "text/plain": [
       "  Colúmnas  Valores faltantes  PorcentajePerdido\n",
       "0   Nombre                  2          14.285714"
      ]
     },
     "execution_count": 72,
     "metadata": {},
     "output_type": "execute_result"
    },
    {
     "data": {
      "image/png": "[encoded data removed]",
      "text/plain": [
       "<Figure size 720x360 with 1 Axes>"
      ]
     },
     "metadata": {
      "needs_background": "light"
     },
     "output_type": "display_data"
    }
   ],
   "source": [
    "get_missings(proveedores)"
   ]
  },
  {
   "cell_type": "markdown",
   "metadata": {},
   "source": [
    "## **Tabla:** Sucursal\n",
    "| | Columna Normalizada | Columna Original | Tipo de Dato | Descripción |\n",
    "|:-------------------:|---|---|---|---|\n",
    "| 0 | IdSucursal | ï»¿ID | int64 | Clave única que identifica la sucursal |\n",
    "| 1 | Sucursal | Sucursal | object | Nombre de la sucursal |\n",
    "| 2 | Domicilio | Direccion | object | Domicilio de la sucursal |\n",
    "| 3 | Localidad | Localidad | object | Localidad de la sucursal |\n",
    "| 4 | Provincia | Provincia | object | Provincia de la sucursal |\n",
    "| 5 | Latitud | Latitud | float64 | Latitud de la sucursal |\n",
    "| 6 | Longitud | Longitud | float64 | Longitud de la sucursal |"
   ]
  },
  {
   "cell_type": "code",
   "execution_count": 73,
   "metadata": {},
   "outputs": [
    {
     "name": "stdout",
     "output_type": "stream",
     "text": [
      "La tabla está formada por 31 registros, y 7 columnas\n"
     ]
    }
   ],
   "source": [
    "prep(sucursales)"
   ]
  },
  {
   "cell_type": "code",
   "execution_count": 74,
   "metadata": {},
   "outputs": [
    {
     "data": {
      "text/html": [
       "<div>\n",
       "<style scoped>\n",
       "    .dataframe tbody tr th:only-of-type {\n",
       "        vertical-align: middle;\n",
       "    }\n",
       "\n",
       "    .dataframe tbody tr th {\n",
       "        vertical-align: top;\n",
       "    }\n",
       "\n",
       "    .dataframe thead th {\n",
       "        text-align: right;\n",
       "    }\n",
       "</style>\n",
       "<table border=\"1\" class=\"dataframe\">\n",
       "  <thead>\n",
       "    <tr style=\"text-align: right;\">\n",
       "      <th></th>\n",
       "      <th>ID</th>\n",
       "      <th>Sucursal</th>\n",
       "      <th>Direccion</th>\n",
       "      <th>Localidad</th>\n",
       "      <th>Provincia</th>\n",
       "      <th>Latitud</th>\n",
       "      <th>Longitud</th>\n",
       "    </tr>\n",
       "  </thead>\n",
       "  <tbody>\n",
       "    <tr>\n",
       "      <th>0</th>\n",
       "      <td>1</td>\n",
       "      <td>Cabildo</td>\n",
       "      <td>Av. Cabildo 1342</td>\n",
       "      <td>Ciudad de Buenos Aires</td>\n",
       "      <td>Ciudad de Buenos Aires</td>\n",
       "      <td>-34,5678060</td>\n",
       "      <td>-58,4495720</td>\n",
       "    </tr>\n",
       "  </tbody>\n",
       "</table>\n",
       "</div>"
      ],
      "text/plain": [
       "   ID Sucursal         Direccion               Localidad  \\\n",
       "0   1  Cabildo  Av. Cabildo 1342  Ciudad de Buenos Aires   \n",
       "\n",
       "                Provincia      Latitud     Longitud  \n",
       "0  Ciudad de Buenos Aires  -34,5678060  -58,4495720  "
      ]
     },
     "execution_count": 74,
     "metadata": {},
     "output_type": "execute_result"
    }
   ],
   "source": [
    "sucursales.head(1)"
   ]
  },
  {
   "cell_type": "code",
   "execution_count": 75,
   "metadata": {},
   "outputs": [
    {
     "name": "stdout",
     "output_type": "stream",
     "text": [
      "La integridad de la colúmna ID, en cuanto a valores faltantes es del 100.0%\n",
      "La integridad de la colúmna Sucursal, en cuanto a valores faltantes es del 100.0%\n",
      "La integridad de la colúmna Direccion, en cuanto a valores faltantes es del 100.0%\n",
      "La integridad de la colúmna Localidad, en cuanto a valores faltantes es del 100.0%\n",
      "La integridad de la colúmna Provincia, en cuanto a valores faltantes es del 100.0%\n",
      "La integridad de la colúmna Latitud, en cuanto a valores faltantes es del 100.0%\n",
      "La integridad de la colúmna Longitud, en cuanto a valores faltantes es del 100.0%\n"
     ]
    }
   ],
   "source": [
    "integridad(sucursales)"
   ]
  },
  {
   "cell_type": "code",
   "execution_count": 76,
   "metadata": {},
   "outputs": [
    {
     "data": {
      "text/plain": [
       "False"
      ]
     },
     "execution_count": 76,
     "metadata": {},
     "output_type": "execute_result"
    }
   ],
   "source": [
    "get_missings(sucursales)"
   ]
  }
 ],
 "metadata": {
  "kernelspec": {
   "display_name": "Python 3.10.2 64-bit",
   "language": "python",
   "name": "python3"
  },
  "language_info": {
   "codemirror_mode": {
    "name": "ipython",
    "version": 3
   },
   "file_extension": ".py",
   "mimetype": "text/x-python",
   "name": "python",
   "nbconvert_exporter": "python",
   "pygments_lexer": "ipython3",
   "version": "3.10.2"
  },
  "orig_nbformat": 4,
  "vscode": {
   "interpreter": {
    "hash": "6847c98a8f86b01c6a19c518cd2f366693b80566b266804d5ca763cbb223f52b"
   }
  }
 },
 "nbformat": 4,
 "nbformat_minor": 2
}
